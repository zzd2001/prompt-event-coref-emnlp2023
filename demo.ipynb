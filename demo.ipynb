{
 "cells": [
  {
   "cell_type": "code",
   "execution_count": 1,
   "metadata": {},
   "outputs": [
    {
     "ename": "ModuleNotFoundError",
     "evalue": "No module named 'corefprompt'",
     "output_type": "error",
     "traceback": [
      "\u001b[0;31m---------------------------------------------------------------------------\u001b[0m",
      "\u001b[0;31mModuleNotFoundError\u001b[0m                       Traceback (most recent call last)",
      "\u001b[1;32m/root/prompt-event-coref-emnlp2023/demo.ipynb Cell 1\u001b[0m line \u001b[0;36m2\n\u001b[1;32m      <a href='vscode-notebook-cell://a-aide-20240831-4c1e-067060-qvzxyjttbjzb.intern-ai.org.cn/root/prompt-event-coref-emnlp2023/demo.ipynb#W0sdnNjb2RlLXJlbW90ZQ%3D%3D?line=0'>1</a>\u001b[0m \u001b[39m# 加载模型\u001b[39;00m\n\u001b[0;32m----> <a href='vscode-notebook-cell://a-aide-20240831-4c1e-067060-qvzxyjttbjzb.intern-ai.org.cn/root/prompt-event-coref-emnlp2023/demo.ipynb#W0sdnNjb2RlLXJlbW90ZQ%3D%3D?line=1'>2</a>\u001b[0m \u001b[39mfrom\u001b[39;00m \u001b[39mcorefprompt\u001b[39;00m \u001b[39mimport\u001b[39;00m CorefPrompt\n\u001b[1;32m      <a href='vscode-notebook-cell://a-aide-20240831-4c1e-067060-qvzxyjttbjzb.intern-ai.org.cn/root/prompt-event-coref-emnlp2023/demo.ipynb#W0sdnNjb2RlLXJlbW90ZQ%3D%3D?line=3'>4</a>\u001b[0m model_checkpoint \u001b[39m=\u001b[39m \u001b[39m'\u001b[39m\u001b[39m./coref-prompt-large\u001b[39m\u001b[39m'\u001b[39m\n\u001b[1;32m      <a href='vscode-notebook-cell://a-aide-20240831-4c1e-067060-qvzxyjttbjzb.intern-ai.org.cn/root/prompt-event-coref-emnlp2023/demo.ipynb#W0sdnNjb2RlLXJlbW90ZQ%3D%3D?line=4'>5</a>\u001b[0m coref_model \u001b[39m=\u001b[39m CorefPrompt(model_checkpoint)\n",
      "\u001b[0;31mModuleNotFoundError\u001b[0m: No module named 'corefprompt'"
     ]
    }
   ],
   "source": [
    "# 加载模型\n",
    "from corefprompt import CorefPrompt\n",
    "\n",
    "model_checkpoint = './coref-prompt-large'\n",
    "coref_model = CorefPrompt(model_checkpoint)"
   ]
  },
  {
   "cell_type": "code",
   "execution_count": null,
   "metadata": {},
   "outputs": [],
   "source": [
    "# 样例\n",
    "document = 'Former Pakistani dancing girl commits suicide 12 years after horrific acid attack which left her looking \"not human\". She had undergone 39 separate surgeries to repair damage. Leapt to her death from sixth floor Rome building earlier this month. Her ex-husband was charged with attempted murder in 2002 but has since been acquitted.'\n",
    "\n",
    "ev1 = {\n",
    "    'offset': 38, \n",
    "    'trigger': 'suicide', \n",
    "    'args': [\n",
    "        {'mention': 'Former Pakistani dancing girl', 'role': 'participant'}\n",
    "    ]\n",
    "}\n",
    "ev3 = {\n",
    "    'offset': 88, \n",
    "    'trigger': 'left', \n",
    "    'args': [\n",
    "        {'mention': 'acid', 'role': 'participant'}, \n",
    "        {'mention': 'her', 'role': 'participant'}\n",
    "    ]\n",
    "}\n",
    "ev4 = {\n",
    "    'offset': 168, \n",
    "    'trigger': 'damage', \n",
    "    'args': [\n",
    "        {'mention': 'She', 'role': 'participant'}\n",
    "    ]\n",
    "}\n",
    "ev5 = {\n",
    "    'offset': 189, \n",
    "    'trigger': 'death', \n",
    "    'args': [\n",
    "        {'mention': 'her', 'role': 'participant'}, \n",
    "        {'mention': 'sixth floor Rome building', 'role': 'place'}\n",
    "    ]\n",
    "}"
   ]
  },
  {
   "cell_type": "code",
   "execution_count": null,
   "metadata": {},
   "outputs": [],
   "source": [
    "# direct predict event pairs\n",
    "res = coref_model.predict_coref_in_doc(document, ev1, ev5)\n",
    "print('[Prompt]:', res['prompt'])\n",
    "print(f\"ev1[{ev1['trigger']}] - ev5[{ev5['trigger']}]: {res['label']} ({res['probability']})\")"
   ]
  }
 ],
 "metadata": {
  "kernelspec": {
   "display_name": "corefprompt",
   "language": "python",
   "name": "python3"
  },
  "language_info": {
   "codemirror_mode": {
    "name": "ipython",
    "version": 3
   },
   "file_extension": ".py",
   "mimetype": "text/x-python",
   "name": "python",
   "nbconvert_exporter": "python",
   "pygments_lexer": "ipython3",
   "version": "3.9.19"
  }
 },
 "nbformat": 4,
 "nbformat_minor": 2
}
